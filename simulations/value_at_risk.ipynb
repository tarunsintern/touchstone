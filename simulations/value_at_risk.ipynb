{
 "cells": [
  {
   "cell_type": "code",
   "execution_count": 3,
   "metadata": {},
   "outputs": [],
   "source": [
    "%%capture\n",
    "%pip install requests\n",
    "%pip install pandas\n",
    "%pip install matplotlib\n",
    "\n",
    "import requests\n",
    "import json\n",
    "import pandas as pd\n",
    "import numpy as np\n",
    "import matplotlib.pyplot as plt\n",
    "\n",
    "page_size = 1000 # max page size"
   ]
  },
  {
   "cell_type": "code",
   "execution_count": 25,
   "metadata": {},
   "outputs": [
    {
     "data": {
      "text/html": [
       "<div>\n",
       "<style scoped>\n",
       "    .dataframe tbody tr th:only-of-type {\n",
       "        vertical-align: middle;\n",
       "    }\n",
       "\n",
       "    .dataframe tbody tr th {\n",
       "        vertical-align: top;\n",
       "    }\n",
       "\n",
       "    .dataframe thead th {\n",
       "        text-align: right;\n",
       "    }\n",
       "</style>\n",
       "<table border=\"1\" class=\"dataframe\">\n",
       "  <thead>\n",
       "    <tr style=\"text-align: right;\">\n",
       "      <th></th>\n",
       "      <th>block_number</th>\n",
       "      <th>debt</th>\n",
       "      <th>collateral</th>\n",
       "      <th>price_value</th>\n",
       "    </tr>\n",
       "  </thead>\n",
       "  <tbody>\n",
       "    <tr>\n",
       "      <th>0</th>\n",
       "      <td>18015885</td>\n",
       "      <td>134815.943556614875711971</td>\n",
       "      <td>133.026273170510934797</td>\n",
       "      <td>1644.92</td>\n",
       "    </tr>\n",
       "    <tr>\n",
       "      <th>1</th>\n",
       "      <td>18023085</td>\n",
       "      <td>134815.943556614875711971</td>\n",
       "      <td>133.026273170510934797</td>\n",
       "      <td>1734.24</td>\n",
       "    </tr>\n",
       "    <tr>\n",
       "      <th>2</th>\n",
       "      <td>18030285</td>\n",
       "      <td>134815.943556614875711971</td>\n",
       "      <td>132.026273170510934797</td>\n",
       "      <td>1700.795</td>\n",
       "    </tr>\n",
       "    <tr>\n",
       "      <th>3</th>\n",
       "      <td>18037485</td>\n",
       "      <td>134815.943556614875711971</td>\n",
       "      <td>132.026273170510934797</td>\n",
       "      <td>1654.4270875</td>\n",
       "    </tr>\n",
       "    <tr>\n",
       "      <th>4</th>\n",
       "      <td>18044685</td>\n",
       "      <td>124609.408443172453772318</td>\n",
       "      <td>125.026273170510934797</td>\n",
       "      <td>1622.62</td>\n",
       "    </tr>\n",
       "  </tbody>\n",
       "</table>\n",
       "</div>"
      ],
      "text/plain": [
       "   block_number                       debt              collateral  \\\n",
       "0      18015885  134815.943556614875711971  133.026273170510934797   \n",
       "1      18023085  134815.943556614875711971  133.026273170510934797   \n",
       "2      18030285  134815.943556614875711971  132.026273170510934797   \n",
       "3      18037485  134815.943556614875711971  132.026273170510934797   \n",
       "4      18044685  124609.408443172453772318  125.026273170510934797   \n",
       "\n",
       "    price_value  \n",
       "0       1644.92  \n",
       "1       1734.24  \n",
       "2      1700.795  \n",
       "3  1654.4270875  \n",
       "4       1622.62  "
      ]
     },
     "execution_count": 25,
     "metadata": {},
     "output_type": "execute_result"
    }
   ],
   "source": [
    "maker_subgraph_url = 'https://api.thegraph.com/subgraphs/name/protofire/maker-protocol'\n",
    "\n",
    "\n",
    "\n",
    "\n",
    "with open(\"getMakerVault.graphql\", \"r\") as file:\n",
    "    get_maker_vault_query = file.read()\n",
    "\n",
    "# Define the DataFrame columns\n",
    "df_columns = ['block_number', 'debt', 'collateral',  'price_value']\n",
    "# dataframe = pd.DataFrame(columns=df_columns)\n",
    "data_rows = []\n",
    "\n",
    "days = 30\n",
    "for i in range(days):\n",
    "    block_number = 18015885 + i * 300 * 24\n",
    "\n",
    "    # Variables to be passed to the query\n",
    "    variables = {\n",
    "        \"vaultId\": \"0x655e761c941cdbae43514f65e57865f9bc3f54ab-ETH-A\",\n",
    "        \"blockNumber\": block_number\n",
    "    }\n",
    "\n",
    "\n",
    "    r = requests.post(maker_subgraph_url, json={'query': get_maker_vault_query, 'variables': variables})\n",
    "    vault_data = r.json()\n",
    "\n",
    "    # Check if the response contains data\n",
    "    if 'data' in vault_data and 'vaults' in vault_data['data'] and len(vault_data['data']['vaults']) > 0:\n",
    "        # Extract the data for the DataFrame\n",
    "        for vault in vault_data['data']['vaults']:\n",
    "            row = {\n",
    "                'block_number': block_number,\n",
    "                'debt': vault['debt'],\n",
    "                'collateral': vault['collateral'],\n",
    "                'price_value': vault['collateralType']['price']['value'],\n",
    "            }\n",
    "            data_rows.append(row)\n",
    "\n",
    "df = pd.DataFrame(data_rows, columns=df_columns)\n",
    "df.head()\n",
    "\n"
   ]
  },
  {
   "cell_type": "code",
   "execution_count": 26,
   "metadata": {},
   "outputs": [
    {
     "data": {
      "image/png": "[encoded data removed]",
      "text/plain": [
       "<Figure size 640x480 with 1 Axes>"
      ]
     },
     "metadata": {},
     "output_type": "display_data"
    }
   ],
   "source": [
    "df['price_value'] = df['price_value'].astype(float)\n",
    "df['return'] = df['price_value'].pct_change()\n",
    "df['total_collateral'] = df['collateral'].astype(float) * df['price_value']\n",
    "df['health_factor'] = df['total_collateral'] / df['debt'].astype(float)\n",
    "\n",
    "df.shape\n",
    "df.head()\n",
    "\n",
    "# plot scatterplot x = price_value and y = health_factor\n",
    "plt.scatter(df['price_value'], df['health_factor'])\n",
    "plt.xlabel('price_value')\n",
    "plt.ylabel('health_factor')\n",
    "plt.show()\n",
    "\n",
    "\n"
   ]
  },
  {
   "cell_type": "code",
   "execution_count": 31,
   "metadata": {},
   "outputs": [
    {
     "name": "stdout",
     "output_type": "stream",
     "text": [
      "   block_number                       debt              collateral  \\\n",
      "0      18015885  134815.943556614875711971  133.026273170510934797   \n",
      "1      18023085  134815.943556614875711971  133.026273170510934797   \n",
      "2      18030285  134815.943556614875711971  132.026273170510934797   \n",
      "3      18037485  134815.943556614875711971  132.026273170510934797   \n",
      "4      18044685  124609.408443172453772318  125.026273170510934797   \n",
      "\n",
      "   price_value    return  total_collateral  health_factor  \n",
      "0  1644.920000       NaN     218817.577264       1.623084  \n",
      "1  1734.240000  0.054301     230699.483983       1.711218  \n",
      "2  1700.795000 -0.019285     224549.625277       1.665601  \n",
      "3  1654.427087 -0.027262     218427.842595       1.620193  \n",
      "4  1622.620000 -0.019225     202870.131372       1.628048  \n",
      "Monte Carlo VaR estimate:  -0.030816679379724276\n"
     ]
    }
   ],
   "source": [
    "import random\n",
    "print(df.head())\n",
    "\n",
    "def monte_carlo_var(returns, num_simulations, holding_period, alpha):\n",
    "    mean_return = returns.mean()\n",
    "    std_return = returns.std()\n",
    "\n",
    "    simulated_end_price = []\n",
    "    for _ in range(num_simulations):\n",
    "        price = 1 \n",
    "        for _ in range(holding_period):\n",
    "            price *= 1 + random.gauss(mean_return, std_return) \n",
    "        simulated_end_price.append(price)\n",
    "\n",
    "    simulated_end_price = pd.Series(simulated_end_price)\n",
    "    losses = 1 - simulated_end_price\n",
    "\n",
    "    var = losses.quantile(alpha)\n",
    "\n",
    "    return var\n",
    "\n",
    "\n",
    "# params\n",
    "num_simulations = 10000\n",
    "holding_period = 1\n",
    "alpha = 0.05\n",
    "\n",
    "# run monte carlo simulation\n",
    "monte_carlo_var = monte_carlo_var(\n",
    "    df[\"return\"], num_simulations, holding_period, alpha\n",
    ")\n",
    "print(\"Monte Carlo VaR estimate: \", monte_carlo_var)"
   ]
  },
  {
   "cell_type": "code",
   "execution_count": null,
   "metadata": {},
   "outputs": [],
   "source": [
    "let liquidation"
   ]
  }
 ],
 "metadata": {
  "kernelspec": {
   "display_name": "Python 3",
   "language": "python",
   "name": "python3"
  },
  "language_info": {
   "codemirror_mode": {
    "name": "ipython",
    "version": 3
   },
   "file_extension": ".py",
   "mimetype": "text/x-python",
   "name": "python",
   "nbconvert_exporter": "python",
   "pygments_lexer": "ipython3",
   "version": "3.10.0"
  }
 },
 "nbformat": 4,
 "nbformat_minor": 2
}
